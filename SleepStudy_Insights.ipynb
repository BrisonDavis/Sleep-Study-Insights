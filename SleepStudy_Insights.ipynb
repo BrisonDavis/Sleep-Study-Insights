{
  "cells": [
    {
      "cell_type": "markdown",
      "source": [
        "# Sleep Study Insights Dashboard\n",
        "This project analyzes sleep lab data using Python in an Azure Machine Learning environment. The dataset includes technician names, study durations, disorder types, machine usage, and pass/fail results. The goal is to extract meaningful insights that can help optimize lab operations and improve patient outcomes.\n",
        "\n",
        "## Tools Used:\n",
        "- Azure Machine Learning (cloud compute and notebooks)\n",
        "- Python (pandas for data analysis, matplotlib for visualization)\n",
        "- CSV file as input dataset\n",
        "\n",
        "## Key Skills Demonstrated:\n",
        "- Data cleaning and transformation (datetime parsing, column type conversion)\n",
        "- Exploratory data analysis (grouping, aggregating, filtering)\n",
        "- Data visualization using bar charts\n",
        "- Writing insights and communicating findings clearly\n",
        "- Working inside a cloud-based machine learning environment (Azure)\n",
        "\n",
        "## Insights Included:\n",
        "- Average study duration by disorder type\n",
        "- Average study duration by technician\n",
        "- Study volume by disorder\n",
        "- Average duration by machine\n",
        "- Pass rate by disorder type\n",
        "\n",
        "## Real-World Relevance:\n",
        "This project simulates the type of work done by **data analysts**, **data engineers**, and **ML engineers** in healthcare and operations. It demonstrates end-to-end ownership of a dataset — from import, cleaning, analysis, to business insight generation — using tools that are used in professional environments like Microsoft Azure and GitHub.\n"
      ],
      "metadata": {
        "nteract": {
          "transient": {
            "deleting": false
          }
        }
      }
    },
    {
      "cell_type": "markdown",
      "source": [
        "## Insight 1: Average Duration by Disorder Type\n",
        "\n",
        "This chart highlights the average duration of sleep studies for each disorder type. The results suggest that sleep apnea disorder tends to take the longest, which may require more technician time and machine usage. This helps identify which disorders place higher time demands on the lab."
      ],
      "metadata": {
        "nteract": {
          "transient": {
            "deleting": false
          }
        }
      }
    },
    {
      "cell_type": "markdown",
      "source": [
        "## Insight 2: Average Duration by Technician\n",
        "\n",
        "This chart shows the average sleep study duration for each technician. It reveals how long, on average, each tech runs their studies. These differences could reflect varying levels of experience, study complexity, or patient conditions handled by each tech. Management can use this to identify training needs or optimize scheduling."
      ],
      "metadata": {
        "nteract": {
          "transient": {
            "deleting": false
          }
        }
      }
    },
    {
      "cell_type": "markdown",
      "source": [
        "## Insight 3: Study Volume by Disorder Type\n",
        "\n",
        "This chart displays the number of sleep studies conducted for each disorder type. It helps identify the most common disorders being evaluated in the lab. This insight can support staffing, budgeting, and treatment planning by showing which conditions are prioritized or most frequently encountered."
      ],
      "metadata": {
        "nteract": {
          "transient": {
            "deleting": false
          }
        }
      }
    },
    {
      "cell_type": "markdown",
      "source": [
        "## Insight 4: Average Duration by Machine Used\n",
        "\n",
        "This visualization compares the average study duration across different machines used in the lab. Certain machines are associated with longer or shorter average durations, which may reflect the complexity of tests performed or the efficiency of the equipment. This could guide equipment upgrades or scheduling decisions."
      ],
      "metadata": {
        "nteract": {
          "transient": {
            "deleting": false
          }
        }
      }
    },
    {
      "cell_type": "markdown",
      "source": [
        "## Insight 5: Pass Rate by Disorder Type\n",
        "\n",
        "This chart illustrates the pass rate for each disorder type based on study results. Disorders with lower pass rates may require more careful patient preparation, different diagnostic protocols, or more detailed follow-up. This insight supports clinical quality improvement and patient care planning."
      ],
      "metadata": {
        "nteract": {
          "transient": {
            "deleting": false
          }
        }
      }
    }
  ],
  "metadata": {
    "kernelspec": {
      "name": "python310-sdkv2",
      "language": "python",
      "display_name": "Python 3.10 - SDK v2"
    },
    "language_info": {
      "name": "python",
      "version": "3.10.18",
      "mimetype": "text/x-python",
      "codemirror_mode": {
        "name": "ipython",
        "version": 3
      },
      "pygments_lexer": "ipython3",
      "nbconvert_exporter": "python",
      "file_extension": ".py"
    },
    "microsoft": {
      "ms_spell_check": {
        "ms_spell_check_language": "en",
        "ms_ignore_dictionary": [
          "apnea"
        ]
      }
    },
    "kernel_info": {
      "name": "python310-sdkv2"
    },
    "nteract": {
      "version": "nteract-front-end@1.0.0"
    }
  },
  "nbformat": 4,
  "nbformat_minor": 2
}